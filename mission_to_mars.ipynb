{
 "cells": [
  {
   "cell_type": "code",
   "execution_count": 1,
   "metadata": {},
   "outputs": [],
   "source": [
    "# Dependencies\n",
    "import pandas as pd\n",
    "from bs4 import BeautifulSoup\n",
    "from splinter import Browser\n",
    "import time"
   ]
  },
  {
   "cell_type": "markdown",
   "metadata": {},
   "source": [
    "### NASA Mars News"
   ]
  },
  {
   "cell_type": "code",
   "execution_count": 2,
   "metadata": {},
   "outputs": [],
   "source": [
    "def init_browser():\n",
    "    # @NOTE: Replace the path with your actual path to the chromedriver\n",
    "    executable_path = {\"executable_path\": \"chromedriver.exe\"}\n",
    "    return Browser(\"chrome\", **executable_path, headless=False)"
   ]
  },
  {
   "cell_type": "code",
   "execution_count": 3,
   "metadata": {},
   "outputs": [],
   "source": [
    "def news_scrape():\n",
    "    browser=init_browser()\n",
    "    url_news=\"https://mars.nasa.gov/news\"\n",
    "    browser.visit(url_news)\n",
    "    time.sleep(1)\n",
    "    html=browser.html\n",
    "    soup=BeautifulSoup(html, \"html.parser\")\n",
    "    article_list=[]\n",
    "    \n",
    "    # Headline and article text, paragraph   \n",
    "    headline=soup.find_all(\"li\", class_=\"slide\")\n",
    "    news_title=headline[0].find('h3').text\n",
    "    news_p=headline[0].a.text\n",
    "    news_results={\"headline\":news_title, \"text\":news_p}\n",
    "    # Close the browser after scraping\n",
    "    browser.quit()\n",
    "    return news_results"
   ]
  },
  {
   "cell_type": "code",
   "execution_count": 4,
   "metadata": {},
   "outputs": [],
   "source": [
    "headline=news_scrape()"
   ]
  },
  {
   "cell_type": "code",
   "execution_count": 5,
   "metadata": {},
   "outputs": [
    {
     "data": {
      "text/plain": [
       "{'headline': 'NASA Invites Students to Name Mars 2020 Rover',\n",
       " 'text': \"Through Nov. 1, K-12 students in the U.S. are encouraged to enter an essay contest to name NASA's next Mars rover.NASA Invites Students to Name Mars 2020 Rover\"}"
      ]
     },
     "execution_count": 5,
     "metadata": {},
     "output_type": "execute_result"
    }
   ],
   "source": [
    "headline"
   ]
  },
  {
   "cell_type": "markdown",
   "metadata": {},
   "source": [
    "### JPL Mars Space Images - Featured Image"
   ]
  },
  {
   "cell_type": "code",
   "execution_count": 6,
   "metadata": {},
   "outputs": [],
   "source": [
    "# JPL Mars Space Images - Featured Image Website URL https://www.jpl.nasa.gov/spaceimages/?search=&category=Mars\n",
    "def image_scrape():\n",
    "    browser=init_browser()\n",
    "    url=\"https://www.jpl.nasa.gov/spaceimages/?search=&category=Mars\"\n",
    "    browser.visit(url)\n",
    "    time.sleep(1)\n",
    "    html=browser.html\n",
    "    soup=BeautifulSoup(html, \"html.parser\")\n",
    "\n",
    "    results=soup.find_all(\"article\", class_=\"carousel_item\")\n",
    "    image_url=results[0].find(\"a\")[\"data-fancybox-href\"]\n",
    "    # Assigning url string; variable called featured_image_url\n",
    "    featured_image_url=\"https://www.jpl.nasa.gov\"+ image_url\n",
    "    # Close the browser after scraping\n",
    "    browser.quit()\n",
    "    return featured_image_url"
   ]
  },
  {
   "cell_type": "code",
   "execution_count": 7,
   "metadata": {},
   "outputs": [],
   "source": [
    "image=image_scrape()"
   ]
  },
  {
   "cell_type": "code",
   "execution_count": 8,
   "metadata": {},
   "outputs": [
    {
     "data": {
      "text/plain": [
       "'https://www.jpl.nasa.gov/spaceimages/images/mediumsize/PIA18452_ip.jpg'"
      ]
     },
     "execution_count": 8,
     "metadata": {},
     "output_type": "execute_result"
    }
   ],
   "source": [
    "image"
   ]
  },
  {
   "cell_type": "markdown",
   "metadata": {},
   "source": [
    "### Mars Weather\n"
   ]
  },
  {
   "cell_type": "code",
   "execution_count": 9,
   "metadata": {},
   "outputs": [],
   "source": [
    "# Scrape the latest Mars weather tweet from the page https://twitter.com/marswxreport?lang=en\n",
    "def tweet_scrape():\n",
    "    browser=init_browser()\n",
    "    url=\"https://twitter.com/marswxreport?lang=en\"\n",
    "    browser.visit(url)\n",
    "    time.sleep(1)\n",
    "    html=browser.html\n",
    "    soup=BeautifulSoup(html, \"html.parser\")\n",
    "   \n",
    "    results=soup.find_all(class_=\"TweetTextSize TweetTextSize--normal js-tweet-text tweet-text\")\n",
    "    # Saving tweet text for the weather report; variable called mars_weather\n",
    "    mars_weather=results[0].text\n",
    "    # Close the browser after scraping\n",
    "    browser.quit()\n",
    "    return mars_weather"
   ]
  },
  {
   "cell_type": "code",
   "execution_count": 10,
   "metadata": {},
   "outputs": [],
   "source": [
    "tweet=tweet_scrape()"
   ]
  },
  {
   "cell_type": "code",
   "execution_count": 11,
   "metadata": {},
   "outputs": [
    {
     "data": {
      "text/plain": [
       "'Are you there @NASAInSight? It’s me     @CanberraDSNpic.twitter.com/o5UjO2hRwn'"
      ]
     },
     "execution_count": 11,
     "metadata": {},
     "output_type": "execute_result"
    }
   ],
   "source": [
    "tweet"
   ]
  },
  {
   "cell_type": "markdown",
   "metadata": {},
   "source": [
    "### Mars Facts"
   ]
  },
  {
   "cell_type": "code",
   "execution_count": 12,
   "metadata": {},
   "outputs": [],
   "source": [
    "# Visit the Mars Facts webpage https://space-facts.com/mars/\n",
    "# Use Pandas to scrape the table containing facts about the planet including Diameter, Mass, etc.\n",
    "def table_scrape():\n",
    "    browser=init_browser()\n",
    "    url=\"https://space-facts.com/mars/\"\n",
    "    browser.visit(url)\n",
    "    time.sleep(1)\n",
    "    html=browser.html\n",
    "    soup=BeautifulSoup(html, \"html.parser\")\n",
    "\n",
    "    results=soup.find_all(\"table\", class_=\"tablepress tablepress-id-p-mars\")\n",
    "    result=str(results[0])\n",
    "    with open(\"mars_table_facts.html\", \"w\") as file:\n",
    "        file.write(result)\n",
    "    #Close the browser after scraping\n",
    "    browser.quit()\n",
    "    return result"
   ]
  },
  {
   "cell_type": "code",
   "execution_count": 13,
   "metadata": {},
   "outputs": [],
   "source": [
    "mars_facts=table_scrape()"
   ]
  },
  {
   "cell_type": "code",
   "execution_count": 14,
   "metadata": {},
   "outputs": [
    {
     "data": {
      "text/plain": [
       "'<table class=\"tablepress tablepress-id-p-mars\" id=\"tablepress-p-mars\"><tbody><tr class=\"row-1 odd\"><td class=\"column-1\"><strong>Equatorial Diameter:</strong></td><td class=\"column-2\">6,792 km<br/></td></tr><tr class=\"row-2 even\"><td class=\"column-1\"><strong>Polar Diameter:</strong></td><td class=\"column-2\">6,752 km<br/></td></tr><tr class=\"row-3 odd\"><td class=\"column-1\"><strong>Mass:</strong></td><td class=\"column-2\">6.39 × 10^23 kg<br/> (0.11 Earths)</td></tr><tr class=\"row-4 even\"><td class=\"column-1\"><strong>Moons:</strong></td><td class=\"column-2\">2 (<a href=\"https://space-facts.com/moons/phobos/\">Phobos</a> &amp; <a href=\"https://space-facts.com/moons/deimos/\">Deimos</a>)</td></tr><tr class=\"row-5 odd\"><td class=\"column-1\"><strong>Orbit Distance:</strong></td><td class=\"column-2\">227,943,824 km<br/> (1.38 AU)</td></tr><tr class=\"row-6 even\"><td class=\"column-1\"><strong>Orbit Period:</strong></td><td class=\"column-2\">687 days (1.9 years)<br/></td></tr><tr class=\"row-7 odd\"><td class=\"column-1\"><strong>Surface Temperature: </strong></td><td class=\"column-2\">-87 to -5 °C</td></tr><tr class=\"row-8 even\"><td class=\"column-1\"><strong>First Record:</strong></td><td class=\"column-2\">2nd millennium BC</td></tr><tr class=\"row-9 odd\"><td class=\"column-1\"><strong>Recorded By:</strong></td><td class=\"column-2\">Egyptian astronomers</td></tr></tbody></table>'"
      ]
     },
     "execution_count": 14,
     "metadata": {},
     "output_type": "execute_result"
    }
   ],
   "source": [
    "mars_facts"
   ]
  },
  {
   "cell_type": "markdown",
   "metadata": {},
   "source": [
    "### Mars Hemiphere and USGS Astrogeology Hi-Res Images"
   ]
  },
  {
   "cell_type": "code",
   "execution_count": 15,
   "metadata": {},
   "outputs": [],
   "source": [
    "# https://astrogeology.usgs.gov/search/results?q=hemisphere+enhanced&k1=target&v1=Mars\n",
    "def hemisphere_img_scrape():\n",
    "    browser = init_browser()\n",
    "    url=\"https://astrogeology.usgs.gov/search/results?q=hemisphere+enhanced&k1=target&v1=Mars\"\n",
    "    browser.visit(url)\n",
    "    time.sleep(1)\n",
    "    html=browser.html\n",
    "    soup=BeautifulSoup(html, \"html.parser\")\n",
    "    results=soup.find_all(\"h3\")\n",
    "    hemisphere_image_urls=[]\n",
    "    \n",
    "    # Create a sub-scrape function for hi-res images\n",
    "    for result in results:\n",
    "        img_title=result.text\n",
    "        url=\"https://astrogeology.usgs.gov/search/results?q=hemisphere+enhanced&k1=target&v1=Mars\"\n",
    "        browser.visit(url)\n",
    "        time.sleep(1)\n",
    "        \n",
    "        browser.click_link_by_partial_text(img_title)\n",
    "        html=browser.html\n",
    "        soup=BeautifulSoup(html, \"html.parser\")\n",
    "        \n",
    "        img_link=soup.find(\"img\", class_=\"wide-image\")\n",
    "        # html root route and image link\n",
    "        img_url=\"https://astrogeology.usgs.gov\" + img_link[\"src\"]\n",
    "        img_dict={\"img_title\":img_title,\"img_url\":img_url}\n",
    "        hemisphere_image_urls.append(img_dict)\n",
    "        \n",
    "    #Close the browser after scraping\n",
    "    browser.quit()\n",
    "    return hemisphere_image_urls"
   ]
  },
  {
   "cell_type": "code",
   "execution_count": 16,
   "metadata": {},
   "outputs": [],
   "source": [
    "hem_img=hemisphere_img_scrape()"
   ]
  },
  {
   "cell_type": "code",
   "execution_count": 17,
   "metadata": {},
   "outputs": [
    {
     "data": {
      "text/plain": [
       "[{'img_title': 'Cerberus Hemisphere Enhanced',\n",
       "  'img_url': 'https://astrogeology.usgs.gov/cache/images/cfa62af2557222a02478f1fcd781d445_cerberus_enhanced.tif_full.jpg'},\n",
       " {'img_title': 'Schiaparelli Hemisphere Enhanced',\n",
       "  'img_url': 'https://astrogeology.usgs.gov/cache/images/3cdd1cbf5e0813bba925c9030d13b62e_schiaparelli_enhanced.tif_full.jpg'},\n",
       " {'img_title': 'Syrtis Major Hemisphere Enhanced',\n",
       "  'img_url': 'https://astrogeology.usgs.gov/cache/images/ae209b4e408bb6c3e67b6af38168cf28_syrtis_major_enhanced.tif_full.jpg'},\n",
       " {'img_title': 'Valles Marineris Hemisphere Enhanced',\n",
       "  'img_url': 'https://astrogeology.usgs.gov/cache/images/7cf2da4bf549ed01c17f206327be4db7_valles_marineris_enhanced.tif_full.jpg'}]"
      ]
     },
     "execution_count": 17,
     "metadata": {},
     "output_type": "execute_result"
    }
   ],
   "source": [
    "hem_img"
   ]
  },
  {
   "cell_type": "code",
   "execution_count": null,
   "metadata": {},
   "outputs": [],
   "source": []
  }
 ],
 "metadata": {
  "kernelspec": {
   "display_name": "Python 3",
   "language": "python",
   "name": "python3"
  },
  "language_info": {
   "codemirror_mode": {
    "name": "ipython",
    "version": 3
   },
   "file_extension": ".py",
   "mimetype": "text/x-python",
   "name": "python",
   "nbconvert_exporter": "python",
   "pygments_lexer": "ipython3",
   "version": "3.7.3"
  }
 },
 "nbformat": 4,
 "nbformat_minor": 2
}
